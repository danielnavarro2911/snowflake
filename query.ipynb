{
 "cells": [
  {
   "cell_type": "code",
   "execution_count": 6,
   "id": "6ff3fbb4-d309-4dab-9dc5-d4823387c225",
   "metadata": {},
   "outputs": [],
   "source": [
    "from snowflake_connection import snowflake_connection"
   ]
  },
  {
   "cell_type": "code",
   "execution_count": 7,
   "id": "404af398-06fb-41d7-b79e-ebf655e67809",
   "metadata": {},
   "outputs": [
    {
     "name": "stderr",
     "output_type": "stream",
     "text": [
      "C:\\Users\\DaNavarro\\Anaconda3\\lib\\site-packages\\snowflake\\connector\\config_manager.py:344: UserWarning: Bad owner or permissions on C:\\Users\\DaNavarro\\.snowflake\\connections.toml\n",
      "  warn(f\"Bad owner or permissions on {str(filep)}{chmod_message}\")\n"
     ]
    },
    {
     "name": "stdout",
     "output_type": "stream",
     "text": [
      "Initiating login request with your identity provider. A browser window should have opened for you to complete the login. If you can't see it, check existing browser windows, or your OS settings. Press CTRL+C to abort and try again...\n",
      "Going to open: https://login.microsoftonline.com/95e2a768-a0fd-4363-bde4-fbd963fc1153/saml2?SAMLRequest=lZNbc9owEIX%2Fikd99g0bEjSBDIUyoZMLBEjSvglpnaixJaKVY%2FLvIxvc4aFkpk%2FWaM9Kn%2FYcX1zuitx7B4NSqwGJg4h4oLgWUj0PyHo19c%2BJh5YpwXKtYEA%2BAMnl8AJZkW%2FpqLQv6h7eSkDruYMU0qYwIKVRVDOUSBUrAKnldDm6uaadIKJbo63mOidHLV93MEQw1hG2LQKlw3uxdkvDsKqqoEoCbZ7DThRFYdQPnaqWfGv1O%2FemE%2Fo4jNJa7xROPj%2BwfZdqP4KvsDZ7EdKr1Wruz%2B%2BWK%2BKNWtSxVlgWYJZg3iWH9f31HgAdweN0GZToA0PrxwEqXWU5ewWui21p3YmBW4UZiDDXz9I9ejYZkO2rFHN2%2FvNtsTnbrKPlIp2q7vXt1Z%2BHm96Pq1%2BPk5fe4un17ilVfTOaVJx4D62rndrVGWIJM1V7ad1W1En9OPKTaBWf0SShaS%2BIu%2FFv4k2cl1Ix23S2wA1HUEhuNOrMapVLBQ1lvwsddtY791mUCT9Neom%2FEZD62Ub0e0nG47ibhLXDHbJPDW1AzPB%2FZnERHncewnfr%2FJhN5jqX%2FMObalMwe9quOIibHSn8rJFSKJjMR0IYQHS25bmuxgaYdRm3pgQStvcc8g2iSbuz1cLOemPHx4zEekqwY9y2zztWjXOX3HvIhl%2BGm1Ne69z23H0qbUSdQuDuypVhCrfa2MME%2Fnn4vnYC9G%2F1%2BF8dfgI%3D&RelayState=ver%3A1-hint%3A52506176358502-ETMsDgAAAZLefZknABRBRVMvQ0JDL1BLQ1M1UGFkZGluZwEAABAAEMFBNQeW3nJQC6XA3scjCiUAAABw56EQeCghMeigZeFhP1ouUdkyBFist5Ill9URIqLfnbnJCC7oCRv1%2FtsAK1PlykOvJbeZ%2F0dT43vB80VFT3du391P87ADWswYHPTWCNJGvACK1Hrll1CMPAIi9xxP6G81zhKdGpFafKGzToAr%2FKLd%2FQAUqm%2B0GR1HquyuTxyWoRWHJmVzL4c%3D to authenticate...\n"
     ]
    },
    {
     "name": "stderr",
     "output_type": "stream",
     "text": [
      "C:\\Users\\DaNavarro\\snowflake connection py\\snowflake_connection.py:18: UserWarning: pandas only supports SQLAlchemy connectable (engine/connection) or database string URI or sqlite3 DBAPI2 connection. Other DBAPI2 objects are not tested. Please consider using SQLAlchemy.\n",
      "  return pd.read_sql(SQL,self.conn)\n"
     ]
    }
   ],
   "source": [
    "x=snowflake_connection().query(open('query.txt','r').read())"
   ]
  },
  {
   "cell_type": "code",
   "execution_count": 8,
   "id": "0402fab5-69ec-4960-9377-077d092e55b5",
   "metadata": {},
   "outputs": [
    {
     "data": {
      "text/html": [
       "<div>\n",
       "<style scoped>\n",
       "    .dataframe tbody tr th:only-of-type {\n",
       "        vertical-align: middle;\n",
       "    }\n",
       "\n",
       "    .dataframe tbody tr th {\n",
       "        vertical-align: top;\n",
       "    }\n",
       "\n",
       "    .dataframe thead th {\n",
       "        text-align: right;\n",
       "    }\n",
       "</style>\n",
       "<table border=\"1\" class=\"dataframe\">\n",
       "  <thead>\n",
       "    <tr style=\"text-align: right;\">\n",
       "      <th></th>\n",
       "      <th>CUSTOMER_NUMBER</th>\n",
       "    </tr>\n",
       "  </thead>\n",
       "  <tbody>\n",
       "    <tr>\n",
       "      <th>0</th>\n",
       "      <td>106940</td>\n",
       "    </tr>\n",
       "    <tr>\n",
       "      <th>1</th>\n",
       "      <td>106940</td>\n",
       "    </tr>\n",
       "    <tr>\n",
       "      <th>2</th>\n",
       "      <td>106940</td>\n",
       "    </tr>\n",
       "    <tr>\n",
       "      <th>3</th>\n",
       "      <td>106940</td>\n",
       "    </tr>\n",
       "  </tbody>\n",
       "</table>\n",
       "</div>"
      ],
      "text/plain": [
       "  CUSTOMER_NUMBER\n",
       "0          106940\n",
       "1          106940\n",
       "2          106940\n",
       "3          106940"
      ]
     },
     "execution_count": 8,
     "metadata": {},
     "output_type": "execute_result"
    }
   ],
   "source": [
    "x"
   ]
  },
  {
   "cell_type": "code",
   "execution_count": null,
   "id": "8636dab1-9d2c-4580-b00e-da8634c681ea",
   "metadata": {},
   "outputs": [],
   "source": []
  }
 ],
 "metadata": {
  "kernelspec": {
   "display_name": "Python 3 (ipykernel)",
   "language": "python",
   "name": "python3"
  },
  "language_info": {
   "codemirror_mode": {
    "name": "ipython",
    "version": 3
   },
   "file_extension": ".py",
   "mimetype": "text/x-python",
   "name": "python",
   "nbconvert_exporter": "python",
   "pygments_lexer": "ipython3",
   "version": "3.9.12"
  }
 },
 "nbformat": 4,
 "nbformat_minor": 5
}
